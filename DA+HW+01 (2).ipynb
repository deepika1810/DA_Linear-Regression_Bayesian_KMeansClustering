{
 "cells": [
  {
   "cell_type": "markdown",
   "metadata": {},
   "source": [
    "\n",
    "#### Problem 1\n",
    "From chapter 2 in TESL, the 2-dimensional dataset is created using the following\n",
    "procedure:\n",
    "1. sample mi ∼ N([1, 0]', I) for i = 1, . . . , 5.\n",
    "2. sample mi ∼ N([0, 1]', I) for i = 6, . . . , 10.\n",
    "3. sample m from (m1, . . . , m10), each with probability 1/10 and sample xj ∼ N(m, I/5).\n",
    "4. if m ∈ {m1, . . . , m5}, let xj ∈ {class 1} (otherwise xj ∈ {class 2}).\n",
    "(Note: save the subclass information (subclasses 1, . . . , 10). You will use this\n",
    "later.)\n",
    "5. repeat steps 3 and 4 for j = 1, . . . , 100.\n"
   ]
  },
  {
   "cell_type": "markdown",
   "metadata": {},
   "source": [
    "#### Part a:-\n",
    "Simulate from the above procedure (Gaussian mixture model), and plot the data.\n",
    "Use 2 separate colors to denote the two classes."
   ]
  },
  {
   "cell_type": "markdown",
   "metadata": {},
   "source": [
    "#### Solution:-\n",
    "1. Setting mean and covariance of distribution 1 \n",
    "2. Using the multivariate normal to generate data points for this distribution and sampling 5 points out of those as the means of class 0 with subclass 1 to 5.\n",
    "3. Storing all this information in m1_5 numpy array which is displayed below along with the plot of the 5 means sampled.\n",
    "4. Repeating the steps 1 to 3 for distribution 2 and storing the information in m6_10 numpy array."
   ]
  },
  {
   "cell_type": "code",
   "execution_count": 1,
   "metadata": {
    "collapsed": true
   },
   "outputs": [],
   "source": [
    "# Importing all required python libraries\n",
    "%matplotlib inline\n",
    "import numpy as np\n",
    "import random\n",
    "import pandas as pd\n",
    "import itertools\n",
    "from scipy.stats import multivariate_normal\n",
    "import matplotlib.pyplot as plt\n",
    "import seaborn as sns\n",
    "from sklearn.cluster import KMeans\n",
    "import sklearn.metrics as sm\n",
    "import sympy\n",
    "sns.set(color_codes=True)\n",
    "#np.random.seed(sum(map(ord, \"distributions\")))\n",
    "np.random.seed(10)"
   ]
  },
  {
   "cell_type": "code",
   "execution_count": 2,
   "metadata": {},
   "outputs": [
    {
     "data": {
      "image/png": "[encoded data removed]",
      "text/plain": [
       "<matplotlib.figure.Figure at 0x10ac2ee10>"
      ]
     },
     "metadata": {},
     "output_type": "display_data"
    }
   ],
   "source": [
    "# 1. sample mi ∼ N([1, 0]', I) for i = 1, . . . , 5.\n",
    "mean1, cov1 = [1, 0], [(1, 0), (0, 1)]\n",
    "data = np.random.multivariate_normal(mean1, cov1, 5)\n",
    "df = pd.DataFrame(data, columns=[\"x1\", \"x2\"])\n",
    "sns.jointplot(x=\"x1\", y=\"x2\", data=df,color='red');\n",
    "mean1=np.array(mean1)"
   ]
  },
  {
   "cell_type": "code",
   "execution_count": 3,
   "metadata": {},
   "outputs": [
    {
     "data": {
      "text/plain": [
       "array([[ 2.3315865 ,  0.71527897,  1.        ,  0.        ],\n",
       "       [-0.54540029, -0.00838385,  2.        ,  0.        ],\n",
       "       [ 1.62133597, -0.72008556,  3.        ,  0.        ],\n",
       "       [ 1.26551159,  0.10854853,  4.        ,  0.        ],\n",
       "       [ 1.00429143, -0.17460021,  5.        ,  0.        ]])"
      ]
     },
     "execution_count": 3,
     "metadata": {},
     "output_type": "execute_result"
    }
   ],
   "source": [
    "m1_5=df.values\n",
    "m1_5class=np.array([[1,0],\n",
    "                   [2,0],\n",
    "                   [3,0],\n",
    "                   [4,0],\n",
    "                   [5,0]])\n",
    "m1_5=np.append(m1_5,m1_5class,axis=1)\n",
    "m1_5"
   ]
  },
  {
   "cell_type": "code",
   "execution_count": 4,
   "metadata": {},
   "outputs": [
    {
     "data": {
      "image/png": "[encoded data removed]",
      "text/plain": [
       "<matplotlib.figure.Figure at 0x10aeeccd0>"
      ]
     },
     "metadata": {},
     "output_type": "display_data"
    }
   ],
   "source": [
    "# 2. sample mi ∼ N([0, 1]', I) for i = 6, . . . , 10.\n",
    "mean2 ,cov2 = [0, 1], [(1, 0), (0, 1)]\n",
    "data = np.random.multivariate_normal(mean2, cov2, 5)\n",
    "df2 = pd.DataFrame(data, columns=[\"x1\", \"x2\"])\n",
    "sns.jointplot(x=\"x1\", y=\"x2\", data=df2, color='blue');\n",
    "mean2=np.array(mean2)"
   ]
  },
  {
   "cell_type": "code",
   "execution_count": 5,
   "metadata": {},
   "outputs": [
    {
     "data": {
      "text/plain": [
       "array([[  0.43302619,   2.20303737,   6.        ,   1.        ],\n",
       "       [ -0.96506567,   2.02827408,   7.        ,   1.        ],\n",
       "       [  0.22863013,   1.44513761,   8.        ,   1.        ],\n",
       "       [ -1.13660221,   1.13513688,   9.        ,   1.        ],\n",
       "       [  1.484537  ,  -0.07980489,  10.        ,   1.        ]])"
      ]
     },
     "execution_count": 5,
     "metadata": {},
     "output_type": "execute_result"
    }
   ],
   "source": [
    "m6_10=df2.values\n",
    "m6_10class=np.array([[6,1],\n",
    "                   [7,1],\n",
    "                   [8,1],\n",
    "                   [9,1],\n",
    "                   [10,1]])\n",
    "m6_10=np.append(m6_10,m6_10class,axis=1)\n",
    "m6_10"
   ]
  },
  {
   "cell_type": "code",
   "execution_count": 6,
   "metadata": {},
   "outputs": [
    {
     "data": {
      "text/plain": [
       "array([[  2.33158650e+00,   7.15278974e-01,   1.00000000e+00,\n",
       "          0.00000000e+00],\n",
       "       [ -5.45400292e-01,  -8.38384993e-03,   2.00000000e+00,\n",
       "          0.00000000e+00],\n",
       "       [  1.62133597e+00,  -7.20085561e-01,   3.00000000e+00,\n",
       "          0.00000000e+00],\n",
       "       [  1.26551159e+00,   1.08548526e-01,   4.00000000e+00,\n",
       "          0.00000000e+00],\n",
       "       [  1.00429143e+00,  -1.74600211e-01,   5.00000000e+00,\n",
       "          0.00000000e+00],\n",
       "       [  4.33026190e-01,   2.20303737e+00,   6.00000000e+00,\n",
       "          1.00000000e+00],\n",
       "       [ -9.65065671e-01,   2.02827408e+00,   7.00000000e+00,\n",
       "          1.00000000e+00],\n",
       "       [  2.28630130e-01,   1.44513761e+00,   8.00000000e+00,\n",
       "          1.00000000e+00],\n",
       "       [ -1.13660221e+00,   1.13513688e+00,   9.00000000e+00,\n",
       "          1.00000000e+00],\n",
       "       [  1.48453700e+00,  -7.98048858e-02,   1.00000000e+01,\n",
       "          1.00000000e+00]])"
      ]
     },
     "execution_count": 6,
     "metadata": {},
     "output_type": "execute_result"
    }
   ],
   "source": [
    "# Saving all the mi's in m1_10 numpy array with their class information\n",
    "m1_10=np.concatenate((m1_5,m6_10),axis=0)\n",
    "m1_10 "
   ]
  },
  {
   "cell_type": "markdown",
   "metadata": {},
   "source": [
    "#### Solution(continued):-\n",
    "After all the means have been stored in m1_10, generation of data is done as:\n",
    "1. Any 1 mean is selected from the m1_10 array.\n",
    "2. 10 points are sampled about it using multivariate normal with covariance and mean which was selected in 1 above.\n",
    "3. The subclass and class information is carried over from the mean to all the data points generated about it. \n"
   ]
  },
  {
   "cell_type": "code",
   "execution_count": 7,
   "metadata": {},
   "outputs": [
    {
     "data": {
      "text/plain": [
       "<seaborn.axisgrid.FacetGrid at 0x10ab0fc90>"
      ]
     },
     "execution_count": 7,
     "metadata": {},
     "output_type": "execute_result"
    },
    {
     "data": {
      "image/png": "[encoded data removed]",
      "text/plain": [
       "<matplotlib.figure.Figure at 0x10b20e710>"
      ]
     },
     "metadata": {},
     "output_type": "display_data"
    }
   ],
   "source": [
    "#3. sample m from (m1, . . . , m10), each with probability \n",
    "#1/10 and sample xj ∼ N(m, I/5).\n",
    "#4. if m ∈ {m1, . . . , m5}, let xj ∈ {class 1} (otherwise xj ∈ {class 2}).\n",
    "df3=pd.DataFrame([])\n",
    "cov=[(0.2,0),(0,0.2)]\n",
    "for j in range(10):\n",
    "    mean=[m1_10[j][0],m1_10[j][1]]\n",
    "    temp = ([[m1_10[j][2],m1_10[j][3]],\n",
    "             [m1_10[j][2],m1_10[j][3]],\n",
    "             [m1_10[j][2],m1_10[j][3]],\n",
    "             [m1_10[j][2],m1_10[j][3]],\n",
    "             [m1_10[j][2],m1_10[j][3]],\n",
    "             [m1_10[j][2],m1_10[j][3]],\n",
    "             [m1_10[j][2],m1_10[j][3]],\n",
    "             [m1_10[j][2],m1_10[j][3]],\n",
    "             [m1_10[j][2],m1_10[j][3]],\n",
    "             [m1_10[j][2],m1_10[j][3]]\n",
    "            ])\n",
    "    data = np.random.multivariate_normal(mean, cov, 10)\n",
    "    data = np.append(data,temp,axis=1)\n",
    "    df3 = df3.append(pd.DataFrame(data, \n",
    "                    columns=[\"x1\", \"x2\",\"Sub Class\",\"Class\"]), ignore_index=True)\n",
    "sns.lmplot(x=\"x1\", y=\"x2\", data=df3, hue='Class', palette= \"Set1\" ,fit_reg=False)"
   ]
  },
  {
   "cell_type": "code",
   "execution_count": 8,
   "metadata": {},
   "outputs": [
    {
     "data": {
      "text/html": [
       "<div>\n",
       "<style>\n",
       "    .dataframe thead tr:only-child th {\n",
       "        text-align: right;\n",
       "    }\n",
       "\n",
       "    .dataframe thead th {\n",
       "        text-align: left;\n",
       "    }\n",
       "\n",
       "    .dataframe tbody tr th {\n",
       "        vertical-align: top;\n",
       "    }\n",
       "</style>\n",
       "<table border=\"1\" class=\"dataframe\">\n",
       "  <thead>\n",
       "    <tr style=\"text-align: right;\">\n",
       "      <th></th>\n",
       "      <th>x1</th>\n",
       "      <th>x2</th>\n",
       "      <th>Sub Class</th>\n",
       "      <th>Class</th>\n",
       "    </tr>\n",
       "  </thead>\n",
       "  <tbody>\n",
       "    <tr>\n",
       "      <th>95</th>\n",
       "      <td>1.304993</td>\n",
       "      <td>0.520436</td>\n",
       "      <td>10.0</td>\n",
       "      <td>1.0</td>\n",
       "    </tr>\n",
       "    <tr>\n",
       "      <th>96</th>\n",
       "      <td>1.664527</td>\n",
       "      <td>-0.246509</td>\n",
       "      <td>10.0</td>\n",
       "      <td>1.0</td>\n",
       "    </tr>\n",
       "    <tr>\n",
       "      <th>97</th>\n",
       "      <td>1.183999</td>\n",
       "      <td>-0.032484</td>\n",
       "      <td>10.0</td>\n",
       "      <td>1.0</td>\n",
       "    </tr>\n",
       "    <tr>\n",
       "      <th>98</th>\n",
       "      <td>0.792561</td>\n",
       "      <td>0.521611</td>\n",
       "      <td>10.0</td>\n",
       "      <td>1.0</td>\n",
       "    </tr>\n",
       "    <tr>\n",
       "      <th>99</th>\n",
       "      <td>1.709570</td>\n",
       "      <td>0.454325</td>\n",
       "      <td>10.0</td>\n",
       "      <td>1.0</td>\n",
       "    </tr>\n",
       "  </tbody>\n",
       "</table>\n",
       "</div>"
      ],
      "text/plain": [
       "          x1        x2  Sub Class  Class\n",
       "95  1.304993  0.520436       10.0    1.0\n",
       "96  1.664527 -0.246509       10.0    1.0\n",
       "97  1.183999 -0.032484       10.0    1.0\n",
       "98  0.792561  0.521611       10.0    1.0\n",
       "99  1.709570  0.454325       10.0    1.0"
      ]
     },
     "execution_count": 8,
     "metadata": {},
     "output_type": "execute_result"
    }
   ],
   "source": [
    "# Printing some of the data from the dataframe which holds coordinates \n",
    "#of data points and the class information for those data points\n",
    "df3.tail()"
   ]
  },
  {
   "cell_type": "markdown",
   "metadata": {},
   "source": [
    "#### Part b:-\n",
    "Use the least squares method to classify the data. Show a plot denoting your linear\n",
    "separating boundary. State both false positive and false negative rates.\n"
   ]
  },
  {
   "cell_type": "markdown",
   "metadata": {},
   "source": [
    "#### Solution:-\n",
    "1. Using least squares method to calculate $\\hat{\\beta}$ using $\\hat{\\beta} = (X^{T}X)^{-1}X^{T}Y$\n",
    "2. Calculating $\\hat{y}$ using $\\hat{\\beta}$\n",
    "3. Plotting the boundary"
   ]
  },
  {
   "cell_type": "code",
   "execution_count": 9,
   "metadata": {},
   "outputs": [
    {
     "data": {
      "text/plain": [
       "[<matplotlib.lines.Line2D at 0x10af88950>,\n",
       " <matplotlib.lines.Line2D at 0x10b0c3350>]"
      ]
     },
     "execution_count": 9,
     "metadata": {},
     "output_type": "execute_result"
    },
    {
     "data": {
      "image/png": "[encoded data removed]",
      "text/plain": [
       "<matplotlib.figure.Figure at 0x10b1f0dd0>"
      ]
     },
     "metadata": {},
     "output_type": "display_data"
    }
   ],
   "source": [
    "dt=df3.values\n",
    "dt2=np.delete(dt,np.s_[2:4],axis=1)\n",
    "dt3=np.delete(dt,np.s_[0:3],axis=1)\n",
    "dt4=dt2.T\n",
    "temp1=np.dot(dt4,dt2)\n",
    "temp1=np.linalg.inv(temp1)\n",
    "temp2=np.dot(temp1,dt4)\n",
    "beta_hat=np.dot(temp2,dt3)\n",
    "\n",
    "xp = np.linspace(-2, 3, 100)\n",
    "y_hat = np.array(beta_hat[0] + beta_hat[1] * xp)\n",
    "sns.lmplot(x=\"x1\", y=\"x2\", data=df3, hue='Class', \n",
    "                   fit_reg=False, palette= \"Set1\",line_kws={'color':'k'})\n",
    "plt.plot(df3['x1'],df3['x2'],'.',xp,y_hat)"
   ]
  },
  {
   "cell_type": "markdown",
   "metadata": {},
   "source": [
    "Calculating the true positives,false positives,true negatives and false negatives using confusion matrix from sklearn library\n",
    "1. Calculating the slope of the line.\n",
    "2. Checking the y values of the point by comparing what its value should have been if it was on the line\n",
    "3. Assigning predicted class.\n",
    "Sklearn confusion matrix returns a confusion matrix C is such that C{i, j} is equal to the number of observations known to be in group i but predicted to be in group j.\n",
    "Thus, the count of true negatives is C{0,0}, false negatives is C{1,0}, true positives is C{1,1} and false positives is C{0,1}."
   ]
  },
  {
   "cell_type": "code",
   "execution_count": 10,
   "metadata": {},
   "outputs": [
    {
     "name": "stdout",
     "output_type": "stream",
     "text": [
      "('True positives', 41)\n",
      "('True negatives', 37)\n",
      "('False positives', 13)\n",
      "('False negatives', 9)\n"
     ]
    }
   ],
   "source": [
    "# Calculating the true positives,false positives, \n",
    "#true negatives and false negatives\n",
    "predict_class=np.zeros(100)\n",
    "x1,y1=xp[0],y_hat[0]\n",
    "x2,y2=xp[99],y_hat[99]\n",
    "m=(y2-y1)/(x2-x1)\n",
    "\n",
    "for i in range(100):\n",
    "    y=m*dt2[i,0]\n",
    "    if(dt2[i,1]>y):\n",
    "        predict_class[i]=1.0\n",
    "    else:\n",
    "        predict_class[i]=0.0\n",
    "predict_class=predict_class.astype(int)\n",
    "true_class=dt3.astype(int)\n",
    "from sklearn.metrics import confusion_matrix\n",
    "cf=confusion_matrix(true_class,predict_class)\n",
    "true_pos=cf[1][1]\n",
    "true_neg=cf[0][0]\n",
    "false_pos=cf[0][1]\n",
    "false_neg=cf[1][0]\n",
    "print(\"True positives\",true_pos)\n",
    "print(\"True negatives\",true_neg)\n",
    "print(\"False positives\",false_pos)\n",
    "print(\"False negatives\",false_neg)"
   ]
  },
  {
   "cell_type": "markdown",
   "metadata": {},
   "source": [
    "#### Problem 2\n",
    "Given knowledge of all the parameters in the model ({m1, . . . m10}), the mixture\n",
    "weights (1/10 for each subclass ), and the covariance functions, derive the optimal\n",
    "separating boundary.\n"
   ]
  },
  {
   "cell_type": "markdown",
   "metadata": {},
   "source": [
    "#### Solution:-\n",
    "1. Bayes optimal Classifier will give the optimal boundary: $p(\\omega_{i}|x) \\propto p(x|\\omega_{i})p(\\omega_{i})$    \n",
    "2. The minimum error rate for this will be  $g_{i}(x)=p(x|\\omega_{i})p(\\omega_{i})$ \n",
    "3. Since, we have gaussian distribution, natural log will be easy for this calculation $g_{i}(x)=\\ln p(x|\\omega_{i}) + \\ln p(\\omega_{i})$ \n",
    "4. With this, the determinate function becomes $g_{i}(x) = \\frac{-1}{2}(x - \\mu_{i})^{T}\\sum_{i}^{-1}(x - \\mu_{i}) - \\ln 2\\pi -\\frac{1}{2} \\ln |\\sum_{{i}}| + \\ln p(\\omega_{i})$\n",
    "5. The decision boundary will be $g_{1}(x)=g_{2}(x)$ as we have 2 classes"
   ]
  },
  {
   "cell_type": "markdown",
   "metadata": {},
   "source": [
    "#### Problem 3\n",
    "Show a plot denoting this boundary. (Note: This may look a little different than what\n",
    "is in the book since your {m1, . . . m10} are different from what they’ve simulated).\n",
    "State both false positive and false negative rates.\n"
   ]
  },
  {
   "cell_type": "markdown",
   "metadata": {},
   "source": [
    "##### Solution:-\n",
    "##### Using the solution for problem 2, the decision boundary has been calculated and then plotted \n",
    "The confusion matrix has been calculated in a way similar to that of Problem 1 b"
   ]
  },
  {
   "cell_type": "code",
   "execution_count": 11,
   "metadata": {},
   "outputs": [
    {
     "name": "stderr",
     "output_type": "stream",
     "text": [
      "/usr/local/lib/python2.7/site-packages/ipykernel_launcher.py:3: RuntimeWarning: invalid value encountered in sqrt\n",
      "  This is separate from the ipykernel package so we can avoid doing imports until\n"
     ]
    },
    {
     "data": {
      "image/png": "[encoded data removed]",
      "text/plain": [
       "<matplotlib.figure.Figure at 0x10b034810>"
      ]
     },
     "metadata": {},
     "output_type": "display_data"
    }
   ],
   "source": [
    "def decision_boundary(x_1):\n",
    "    \"\"\" Calculates the x_2 value for plotting the decision boundary.\"\"\"\n",
    "    return 4 - np.sqrt(-x_1**2 + 4*x_1 + 6 + np.log(16))\n",
    "    \n",
    "f, ax = plt.subplots(figsize=(7, 7))\n",
    "ax.scatter(dt2[:50,0], dt2[:50,1], marker='o', color='red', s=40, alpha=0.5)\n",
    "ax.scatter(dt2[51:,0], dt2[51:,1], marker='o', color='blue', s=40, alpha=0.5)\n",
    "plt.legend(['Class0', 'Class1'], loc='upper right') \n",
    "plt.title('Gaussian Distribution')\n",
    "plt.ylabel('x2')\n",
    "plt.xlabel('x1')\n",
    "x=np.arange(-5,5,0.1)\n",
    "bound = decision_boundary(x)\n",
    "\n",
    "plt.axis([-2,4,-2,3])\n",
    "plt.plot(x,bound,'r--',lw=3)\n",
    "plt.show()"
   ]
  },
  {
   "cell_type": "code",
   "execution_count": 12,
   "metadata": {},
   "outputs": [
    {
     "name": "stdout",
     "output_type": "stream",
     "text": [
      "('True positives', 27)\n",
      "('True negatives', 40)\n",
      "('False positives', 10)\n",
      "('False negatives', 23)\n"
     ]
    },
    {
     "name": "stderr",
     "output_type": "stream",
     "text": [
      "/usr/local/lib/python2.7/site-packages/ipykernel_launcher.py:4: RuntimeWarning: invalid value encountered in sqrt\n",
      "  after removing the cwd from sys.path.\n"
     ]
    }
   ],
   "source": [
    "predict_bayes_class=np.zeros(100)\n",
    "\n",
    "for i in range(100):\n",
    "    y=4 - np.sqrt(-dt2[i,0]**2 + 4*dt2[i,0] + 6 + np.log(16))\n",
    "    if(dt2[i,1]>y):\n",
    "        predict_bayes_class[i]=1.0\n",
    "    else:\n",
    "        predict_bayes_class[i]=0.0\n",
    "predict_bayes_class=predict_bayes_class.astype(int)\n",
    "cf2=confusion_matrix(true_class,predict_bayes_class)\n",
    "true_pos=cf2[1][1]\n",
    "true_neg=cf2[0][0]\n",
    "false_pos=cf2[0][1]\n",
    "false_neg=cf2[1][0]\n",
    "print(\"True positives\",true_pos)\n",
    "print(\"True negatives\",true_neg)\n",
    "print(\"False positives\",false_pos)\n",
    "print(\"False negatives\",false_neg)"
   ]
  },
  {
   "cell_type": "markdown",
   "metadata": {},
   "source": [
    "#### Problem 4\n",
    "If you aren’t given knowledge of the mis, but are given the subclass labels, show how\n",
    "to construct the separating boundary. (Note: many methods exist, and some are\n",
    "better than others. You may use any method you deem reasonable). Show a plot of\n",
    "your results, and state both false positive and false negative rates.\n",
    "\n",
    "#### Solution:-\n",
    "IF the means are not known, then we can use clustering to choose the centroids. K-Means clustering of sklearn library performs upto a maximum of 300 iterations over K clusters to get centroids that don't move around frequently and are stable , thu"
   ]
  },
  {
   "cell_type": "code",
   "execution_count": 13,
   "metadata": {},
   "outputs": [
    {
     "data": {
      "text/plain": [
       "<matplotlib.collections.PathCollection at 0x10adfa790>"
      ]
     },
     "execution_count": 13,
     "metadata": {},
     "output_type": "execute_result"
    },
    {
     "data": {
      "image/png": "[encoded data removed]",
      "text/plain": [
       "<matplotlib.figure.Figure at 0x1061c1b90>"
      ]
     },
     "metadata": {},
     "output_type": "display_data"
    }
   ],
   "source": [
    "#KMEANS CLUSTERING\n",
    "k1=pd.DataFrame(dt2)\n",
    "k1.columns=['x1','x2']\n",
    "k2=pd.DataFrame(df3['Class']).astype(int)\n",
    "k2.columns=['Targets']\n",
    "k2.Targets=k2.Targets.astype(int)\n",
    "model=KMeans(n_clusters=2)\n",
    "model.fit(k1)\n",
    "model.labels_\n",
    "colormap1=np.array(['Red','Blue'])\n",
    "plt.subplot(1,2,1)\n",
    "plt.ylabel('x2')\n",
    "plt.xlabel('x1')\n",
    "plt.title('K-Means Predicted Clustering')\n",
    "plt.scatter(k1.x1,k1.x2,c=colormap1[model.labels_],s=40)\n",
    "plt.tight_layout(pad=5.0, w_pad=4.0, h_pad=4.0)\n",
    "plt.subplot(1,2,2)\n",
    "plt.ylabel('x2')\n",
    "plt.xlabel('x1')\n",
    "plt.title('Original Distribution')\n",
    "plt.scatter(k1.x1,k1.x2,c=colormap1[k2.Targets],s=40)"
   ]
  },
  {
   "cell_type": "code",
   "execution_count": 14,
   "metadata": {},
   "outputs": [
    {
     "name": "stdout",
     "output_type": "stream",
     "text": [
      "('True positives', 40)\n",
      "('True negatives', 41)\n",
      "('False positives', 9)\n",
      "('False negatives', 10)\n"
     ]
    }
   ],
   "source": [
    "# Calculating confusion matrix for KMeans CLustering\n",
    "from sklearn.metrics import confusion_matrix\n",
    "cf3=confusion_matrix(k2.Targets, model.labels_)\n",
    "true_pos=cf3[1][1]\n",
    "true_neg=cf3[0][0]\n",
    "false_pos=cf3[0][1]\n",
    "false_neg=cf3[1][0]\n",
    "print(\"True positives\",true_pos)\n",
    "print(\"True negatives\",true_neg)\n",
    "print(\"False positives\",false_pos)\n",
    "print(\"False negatives\",false_neg)"
   ]
  },
  {
   "cell_type": "markdown",
   "metadata": {},
   "source": [
    "#### Problem 5\n",
    "If you weren’t provided the {m1, . . . m10} and subclass labels, but were given the\n",
    "super class labels (class 1,2), what would you do? You don’t have to derive anything,\n",
    "or code anything up. Simply describe in plain english."
   ]
  },
  {
   "cell_type": "markdown",
   "metadata": {},
   "source": [
    "##### Solution:-\n",
    "1. One of the possible approaches to solve this problem is to approximate or try to guess what the model might have been which has generated this data.\n",
    "2.\tWe can also try to use k means to cluster with variable ‘k’. Try to find of a value of k which will work the best and generate a model which is less noisy\n",
    "3.\tWe can try to find a function which is parameterised by $x_{1}, x_{2}, x_{1}.x_{2}, x_{1}^{2},x_{2}^{2}$ and higher order terms. This function can then be optimised using linear regression.\n",
    "\t\tWhere,\n",
    "\t$Y = \\beta_{00} + \\beta_{10} (X_{1}) + \\beta_{01} (X_{2}) + \\beta_{11} (X_{1}.X_{2}) + \\beta_{20} (X_{1}^{2}) + \\beta_{02} (X_{2}^{2}) + \\beta_{12} (X_{1}.X_{2}^{2}) + ....$"
   ]
  }
 ],
 "metadata": {
  "kernelspec": {
   "display_name": "Python 2",
   "language": "python",
   "name": "python2"
  },
  "language_info": {
   "codemirror_mode": {
    "name": "ipython",
    "version": 2
   },
   "file_extension": ".py",
   "mimetype": "text/x-python",
   "name": "python",
   "nbconvert_exporter": "python",
   "pygments_lexer": "ipython2",
   "version": "2.7.14"
  }
 },
 "nbformat": 4,
 "nbformat_minor": 2
}
